{
 "cells": [
  {
   "cell_type": "code",
   "execution_count": null,
   "metadata": {},
   "outputs": [],
   "source": [
    "import neptune.new as neptune\n",
    "\n",
    "run = neptune.init_run(\n",
    "    project=\"aayushpandeytwo/test\",\n",
    "    api_token=\"eyJhcGlfYWRkcmVzcyI6Imh0dHBzOi8vYXBwLm5lcHR1bmUuYWkiLCJhcGlfdXJsIjoiaHR0cHM6Ly9hcHAubmVwdHVuZS5haSIsImFwaV9rZXkiOiI1ZmM0ZjkyNC1kZWJlLTRkZTctYTY1Zi0zYjI5ZDFmODJkOGYifQ==\",\n",
    ") \n",
    "\n",
    "\n",
    "f = open('roc.txt', \"r\")\n",
    "content = f.readlines()\n",
    "j,k,l = [],[],[]\n",
    "for i in content:\n",
    "    a,b,c = i.split(',')\n",
    "    j.append(a)\n",
    "    k.append(b)\n",
    "    l.append(c)\n"
   ]
  }
 ],
 "metadata": {
  "language_info": {
   "name": "python"
  },
  "orig_nbformat": 4
 },
 "nbformat": 4,
 "nbformat_minor": 2
}
